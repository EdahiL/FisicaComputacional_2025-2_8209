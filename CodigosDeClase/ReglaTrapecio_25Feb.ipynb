{
 "cells": [
  {
   "cell_type": "code",
   "execution_count": 44,
   "id": "95fe539e-5035-45c5-86bd-0a2e28c4cc64",
   "metadata": {},
   "outputs": [],
   "source": [
    "import numpy as np\n",
    "import matplotlib.pyplot as plt"
   ]
  },
  {
   "cell_type": "code",
   "execution_count": 49,
   "id": "a054247f-278a-4b1e-9f29-afdd007f6a3e",
   "metadata": {},
   "outputs": [],
   "source": [
    "def f(x):\n",
    "    return x\n",
    "\n",
    "def f(x):\n",
    "    return x**2\n",
    "\n",
    "def f(x):\n",
    "    return x**3 + 5\n",
    "\n",
    "def f(x):\n",
    "    return np.sin(x)"
   ]
  },
  {
   "cell_type": "code",
   "execution_count": null,
   "id": "a3669211-b8f5-44fb-984e-230748526ec6",
   "metadata": {},
   "outputs": [],
   "source": []
  },
  {
   "cell_type": "code",
   "execution_count": 73,
   "id": "849dcfc8-66f1-42f0-bddb-eb6244f0c86b",
   "metadata": {},
   "outputs": [],
   "source": [
    "a = 0\n",
    "b = np.pi\n",
    "# h = .01\n",
    "h = 1e-7\n",
    "\n",
    "N = int((b-a)/h)"
   ]
  },
  {
   "cell_type": "code",
   "execution_count": 74,
   "id": "5a909fdd-43db-430a-a01c-60fa39b85036",
   "metadata": {},
   "outputs": [],
   "source": [
    "X =  np.arange(a,b,h)"
   ]
  },
  {
   "cell_type": "code",
   "execution_count": 75,
   "id": "1f7f5e41-52d7-473d-9ce1-af1e379b1158",
   "metadata": {},
   "outputs": [
    {
     "data": {
      "text/plain": [
       "[<matplotlib.lines.Line2D at 0x72990ce73290>]"
      ]
     },
     "execution_count": 75,
     "metadata": {},
     "output_type": "execute_result"
    },
    {
     "data": {
      "image/png": "[encoded data removed]",
      "text/plain": [
       "<Figure size 640x480 with 1 Axes>"
      ]
     },
     "metadata": {},
     "output_type": "display_data"
    }
   ],
   "source": [
    "plt.plot(X,f(X),'r.')"
   ]
  },
  {
   "cell_type": "code",
   "execution_count": 76,
   "id": "7eb82597-2c5c-48c0-98a1-bb54c68f6b82",
   "metadata": {},
   "outputs": [],
   "source": [
    "# N"
   ]
  },
  {
   "cell_type": "code",
   "execution_count": 77,
   "id": "b3f10ab8-e859-4342-89bc-65dd083f35d3",
   "metadata": {},
   "outputs": [
    {
     "ename": "KeyboardInterrupt",
     "evalue": "",
     "output_type": "error",
     "traceback": [
      "\u001b[0;31m---------------------------------------------------------------------------\u001b[0m",
      "\u001b[0;31mKeyboardInterrupt\u001b[0m                         Traceback (most recent call last)",
      "Cell \u001b[0;32mIn[77], line 4\u001b[0m\n\u001b[1;32m      1\u001b[0m I \u001b[38;5;241m=\u001b[39m h\u001b[38;5;241m*\u001b[39m(f(a)\u001b[38;5;241m+\u001b[39mf(b))\u001b[38;5;241m/\u001b[39m\u001b[38;5;241m2\u001b[39m\n\u001b[1;32m      2\u001b[0m \u001b[38;5;28;01mfor\u001b[39;00m k \u001b[38;5;129;01min\u001b[39;00m \u001b[38;5;28mrange\u001b[39m(\u001b[38;5;241m1\u001b[39m,N):\n\u001b[1;32m      3\u001b[0m     \u001b[38;5;66;03m# I = I + h*(f(a+(k-1)*h)+f(a+k*h))/2\u001b[39;00m\n\u001b[0;32m----> 4\u001b[0m     I \u001b[38;5;241m=\u001b[39m I \u001b[38;5;241m+\u001b[39m h\u001b[38;5;241m*\u001b[39m\u001b[43mf\u001b[49m\u001b[43m(\u001b[49m\u001b[43ma\u001b[49m\u001b[38;5;241;43m+\u001b[39;49m\u001b[43mk\u001b[49m\u001b[38;5;241;43m*\u001b[39;49m\u001b[43mh\u001b[49m\u001b[43m)\u001b[49m\n\u001b[1;32m      5\u001b[0m I    \n",
      "Cell \u001b[0;32mIn[49], line 11\u001b[0m, in \u001b[0;36mf\u001b[0;34m(x)\u001b[0m\n\u001b[1;32m     10\u001b[0m \u001b[38;5;28;01mdef\u001b[39;00m \u001b[38;5;21mf\u001b[39m(x):\n\u001b[0;32m---> 11\u001b[0m     \u001b[38;5;28;01mreturn\u001b[39;00m \u001b[43mnp\u001b[49m\u001b[38;5;241;43m.\u001b[39;49m\u001b[43msin\u001b[49m\u001b[43m(\u001b[49m\u001b[43mx\u001b[49m\u001b[43m)\u001b[49m\n",
      "\u001b[0;31mKeyboardInterrupt\u001b[0m: "
     ]
    }
   ],
   "source": [
    "I = h*(f(a)+f(b))/2\n",
    "for k in range(1,N):\n",
    "    # I = I + h*(f(a+(k-1)*h)+f(a+k*h))/2\n",
    "    I = I + h*f(a+k*h)\n",
    "# I    "
   ]
  },
  {
   "cell_type": "code",
   "execution_count": null,
   "id": "29c62287-5f65-48cb-a687-c56c71ab43b6",
   "metadata": {},
   "outputs": [],
   "source": []
  },
  {
   "cell_type": "code",
   "execution_count": null,
   "id": "6e340915-c8c7-482d-8b2a-ee9fe6257ffd",
   "metadata": {},
   "outputs": [],
   "source": []
  }
 ],
 "metadata": {
  "kernelspec": {
   "display_name": "Python 3 (ipykernel)",
   "language": "python",
   "name": "python3"
  },
  "language_info": {
   "codemirror_mode": {
    "name": "ipython",
    "version": 3
   },
   "file_extension": ".py",
   "mimetype": "text/x-python",
   "name": "python",
   "nbconvert_exporter": "python",
   "pygments_lexer": "ipython3",
   "version": "3.12.3"
  }
 },
 "nbformat": 4,
 "nbformat_minor": 5
}
