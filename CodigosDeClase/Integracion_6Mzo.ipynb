{
 "cells": [
  {
   "cell_type": "code",
   "execution_count": 1,
   "id": "fccfcd6e-4d8d-4331-8099-6e0e46668ed6",
   "metadata": {},
   "outputs": [],
   "source": [
    "import pandas as pd\n",
    "import numpy as np\n",
    "import matplotlib.pyplot as pt"
   ]
  },
  {
   "cell_type": "code",
   "execution_count": 118,
   "id": "413d5116-5f7d-4f4d-bd38-1e0a8467abe0",
   "metadata": {},
   "outputs": [],
   "source": [
    "def escrbirArchivo(arch1,arch2,lista):\n",
    "    \n",
    "    derecha = open(arch1,'w')\n",
    "    izquierda = open(arch2,'w')\n",
    "\n",
    "    for valor in lista:\n",
    "\n",
    "        izquierda.write(\"%f \\n\" % (valor[0]))\n",
    "        derecha.write(\"%f \\n\" % (valor[1]))\n",
    "        \n",
    "    derecha.close()\n",
    "    izquierda.close()\n",
    "\n",
    "    "
   ]
  },
  {
   "cell_type": "code",
   "execution_count": 131,
   "id": "61551571-7a6d-405c-a530-58c3c4290ee6",
   "metadata": {},
   "outputs": [],
   "source": [
    "def Trapecio(f,a,b,h):\n",
    "    N = (b-a)/h\n",
    "    S = (h/2)*(f(a)+f(b))\n",
    "    for k in np.arange(1,N):\n",
    "        S = S + h*(f(a+k*h))\n",
    "    return float(S)"
   ]
  },
  {
   "cell_type": "code",
   "execution_count": 138,
   "id": "4682075f-fd88-46d2-bc93-95ad3984e020",
   "metadata": {},
   "outputs": [],
   "source": [
    "def f(x):\n",
    "    return x**2\n",
    "\n",
    "def f2(x):\n",
    "    return np.sin(x)"
   ]
  },
  {
   "cell_type": "code",
   "execution_count": 144,
   "id": "a2a238a3-4ccd-48c9-869c-0529198cab46",
   "metadata": {},
   "outputs": [
    {
     "data": {
      "text/plain": [
       "-1.0853464615831085e-05"
      ]
     },
     "execution_count": 144,
     "metadata": {},
     "output_type": "execute_result"
    }
   ],
   "source": [
    "a = 0\n",
    "b = 2*np.pi\n",
    "\n",
    "h = .01\n",
    "\n",
    "Integral = Trapecio(f2,a,b,h)\n",
    "Integral\n"
   ]
  },
  {
   "cell_type": "code",
   "execution_count": 134,
   "id": "cd5c7a08-7d9d-4f80-9106-11cecb346bc1",
   "metadata": {},
   "outputs": [
    {
     "data": {
      "text/plain": [
       "41.666666666666664"
      ]
     },
     "execution_count": 134,
     "metadata": {},
     "output_type": "execute_result"
    }
   ],
   "source": [
    "125/3\n"
   ]
  },
  {
   "cell_type": "code",
   "execution_count": null,
   "id": "75bed87a-f828-44cf-b2fe-56cab7aaaabb",
   "metadata": {},
   "outputs": [],
   "source": []
  },
  {
   "cell_type": "code",
   "execution_count": null,
   "id": "128a3212-b9af-4422-8960-de1497eb0dd9",
   "metadata": {},
   "outputs": [],
   "source": [
    "def Trapecio(f,a,b,N):"
   ]
  },
  {
   "cell_type": "code",
   "execution_count": 85,
   "id": "0d026e3b-9431-46e3-b57b-fbb00a58bf20",
   "metadata": {},
   "outputs": [],
   "source": [
    "almacentxt = open(\"velocidades.txt\",'r')\n",
    "listavacia = []\n",
    "for linea in almacentxt:\n",
    "    # print(linea)\n",
    "    valores = linea.split('\\t')\n",
    "    # print(valores)\n",
    "    a = float(valores[0].strip())\n",
    "    b = float(valores[1].strip())\n",
    "    listavacia.append([a,b])\n"
   ]
  },
  {
   "cell_type": "code",
   "execution_count": 119,
   "id": "79ec1bb9-cbb3-4945-8fcd-7a5b9770aa8f",
   "metadata": {},
   "outputs": [],
   "source": [
    "# listavacia"
   ]
  },
  {
   "cell_type": "code",
   "execution_count": 103,
   "id": "415471bf-b7ee-48b3-85a6-e77f27a7d965",
   "metadata": {},
   "outputs": [],
   "source": []
  },
  {
   "cell_type": "code",
   "execution_count": 114,
   "id": "e92b8af4-c55b-45fe-9838-7b1b7a8ee7ca",
   "metadata": {},
   "outputs": [],
   "source": [
    "derecha = open(\"derecha.dat\",'w')\n",
    "izquierda = open(\"izquierda.txt\",'w')\n",
    "\n",
    "for valor in listavacia:\n",
    "    # print(valor)\n",
    "    # derecha.write(str(valor[1])+\"\\n\")\n",
    "    izquierda.write(\"%f \\n\" % (valor[0]))\n",
    "    derecha.write(\"%f \\n\" % (valor[1]))\n",
    "    # derecha.write(\"%f \\t %f \\n\" % (valor[0],valor[1]))\n",
    "derecha.close()\n",
    "izquierda.close()"
   ]
  },
  {
   "cell_type": "code",
   "execution_count": 120,
   "id": "1c9c3b83-ec5b-4aa0-9f10-154f0b25213c",
   "metadata": {},
   "outputs": [],
   "source": [
    "escrbirArchivo(\"atentos1.exe\",\"reprobados.com\",listavacia)"
   ]
  },
  {
   "cell_type": "code",
   "execution_count": 98,
   "id": "faf06ef2-8ad9-4fe2-a8df-dd10250ac0aa",
   "metadata": {},
   "outputs": [
    {
     "name": "stdout",
     "output_type": "stream",
     "text": [
      "[0.0, 0.0]\n",
      "[1.0, 0.069478]\n",
      "[2.0, 0.137694]\n",
      "[3.0, 0.204332]\n",
      "[4.0, 0.269083]\n",
      "[5.0, 0.331656]\n",
      "[6.0, 0.391771]\n",
      "[7.0, 0.449167]\n",
      "[8.0, 0.503598]\n",
      "[9.0, 0.554835]\n",
      "[10.0, 0.60267]\n",
      "[11.0, 0.646912]\n",
      "[12.0, 0.687392]\n",
      "[13.0, 0.723961]\n",
      "[14.0, 0.756491]\n",
      "[15.0, 0.784876]\n",
      "[16.0, 0.809032]\n",
      "[17.0, 0.828897]\n",
      "[18.0, 0.844428]\n",
      "[19.0, 0.855608]\n",
      "[20.0, 0.862439]\n",
      "[21.0, 0.864945]\n",
      "[22.0, 0.863172]\n",
      "[23.0, 0.857184]\n",
      "[24.0, 0.847067]\n",
      "[25.0, 0.832926]\n",
      "[26.0, 0.814882]\n",
      "[27.0, 0.793077]\n",
      "[28.0, 0.767666]\n",
      "[29.0, 0.738824]\n",
      "[30.0, 0.706736]\n",
      "[31.0, 0.671603]\n",
      "[32.0, 0.633638]\n",
      "[33.0, 0.593065]\n",
      "[34.0, 0.550118]\n",
      "[35.0, 0.505039]\n",
      "[36.0, 0.458077]\n",
      "[37.0, 0.409488]\n",
      "[38.0, 0.359533]\n",
      "[39.0, 0.308474]\n",
      "[40.0, 0.256576]\n",
      "[41.0, 0.204107]\n",
      "[42.0, 0.15133]\n",
      "[43.0, 0.098509]\n",
      "[44.0, 0.045905]\n",
      "[45.0, -0.006228]\n",
      "[46.0, -0.05764]\n",
      "[47.0, -0.108088]\n",
      "[48.0, -0.157338]\n",
      "[49.0, -0.205163]\n",
      "[50.0, -0.251347]\n",
      "[51.0, -0.295685]\n",
      "[52.0, -0.337984]\n",
      "[53.0, -0.378064]\n",
      "[54.0, -0.415757]\n",
      "[55.0, -0.450909]\n",
      "[56.0, -0.483382]\n",
      "[57.0, -0.513052]\n",
      "[58.0, -0.539809]\n",
      "[59.0, -0.563563]\n",
      "[60.0, -0.584234]\n",
      "[61.0, -0.601764]\n",
      "[62.0, -0.616107]\n",
      "[63.0, -0.627235]\n",
      "[64.0, -0.635136]\n",
      "[65.0, -0.639814]\n",
      "[66.0, -0.641289]\n",
      "[67.0, -0.639596]\n",
      "[68.0, -0.634786]\n",
      "[69.0, -0.626922]\n",
      "[70.0, -0.616085]\n",
      "[71.0, -0.602366]\n",
      "[72.0, -0.585872]\n",
      "[73.0, -0.56672]\n",
      "[74.0, -0.545039]\n",
      "[75.0, -0.52097]\n",
      "[76.0, -0.494661]\n",
      "[77.0, -0.466272]\n",
      "[78.0, -0.43597]\n",
      "[79.0, -0.403929]\n",
      "[80.0, -0.37033]\n",
      "[81.0, -0.335357]\n",
      "[82.0, -0.299201]\n",
      "[83.0, -0.262054]\n",
      "[84.0, -0.224114]\n",
      "[85.0, -0.185575]\n",
      "[86.0, -0.146636]\n",
      "[87.0, -0.107492]\n",
      "[88.0, -0.068339]\n",
      "[89.0, -0.02937]\n",
      "[90.0, 0.009227]\n",
      "[91.0, 0.047268]\n",
      "[92.0, 0.084574]\n",
      "[93.0, 0.12097]\n",
      "[94.0, 0.15629]\n",
      "[95.0, 0.190375]\n",
      "[96.0, 0.223073]\n",
      "[97.0, 0.254244]\n",
      "[98.0, 0.283753]\n",
      "[99.0, 0.311479]\n",
      "[100.0, 0.337308]\n"
     ]
    }
   ],
   "source": [
    "for i in range(len(listavacia)):\n",
    "    print(listavacia[i])\n",
    "\n"
   ]
  },
  {
   "cell_type": "code",
   "execution_count": 91,
   "id": "3c14ca71-e3cb-43b4-b815-4e3ea1790ecb",
   "metadata": {},
   "outputs": [],
   "source": [
    "derecha.close()"
   ]
  },
  {
   "cell_type": "code",
   "execution_count": 92,
   "id": "d946c75d-8dcd-4710-9cd7-7be3cf93c28e",
   "metadata": {},
   "outputs": [
    {
     "data": {
      "text/plain": [
       "<_io.TextIOWrapper name='derecha.dat' mode='w' encoding='UTF-8'>"
      ]
     },
     "execution_count": 92,
     "metadata": {},
     "output_type": "execute_result"
    }
   ],
   "source": [
    "derecha"
   ]
  },
  {
   "cell_type": "code",
   "execution_count": null,
   "id": "81477f99-4ccc-438e-81db-2a9fc208ad12",
   "metadata": {},
   "outputs": [],
   "source": []
  }
 ],
 "metadata": {
  "kernelspec": {
   "display_name": "Python 3 (ipykernel)",
   "language": "python",
   "name": "python3"
  },
  "language_info": {
   "codemirror_mode": {
    "name": "ipython",
    "version": 3
   },
   "file_extension": ".py",
   "mimetype": "text/x-python",
   "name": "python",
   "nbconvert_exporter": "python",
   "pygments_lexer": "ipython3",
   "version": "3.12.3"
  }
 },
 "nbformat": 4,
 "nbformat_minor": 5
}
