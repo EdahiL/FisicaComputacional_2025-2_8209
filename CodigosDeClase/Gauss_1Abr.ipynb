{
 "cells": [
  {
   "cell_type": "code",
   "execution_count": 11,
   "id": "a5c869aa-4eba-4008-91bd-29f1c6e1fa82",
   "metadata": {},
   "outputs": [],
   "source": [
    "import numpy as np"
   ]
  },
  {
   "cell_type": "code",
   "execution_count": 169,
   "id": "8c51036e-c756-41ab-8db4-dffa39083105",
   "metadata": {},
   "outputs": [],
   "source": [
    "\n",
    "def MatrixGauss(M,v):\n",
    "    n = len(M)\n",
    "\n",
    "    A = np.array(M,float)\n",
    "    b = np.array(v,float)\n",
    "      \n",
    "    for i in range(n):\n",
    "        a = A[i]/A[i][i]\n",
    "        c = b[i]/A[i][i]\n",
    "        A[i] = a\n",
    "        b[i] = c\n",
    "        \n",
    "        for j in range(i+1,n):\n",
    "            r = A[j]-(A[j][i]*A[i])\n",
    "            p = b[j]-(A[j][i]*b[i])\n",
    "            A[j] = r\n",
    "            b[j] = p\n",
    "            \n",
    "    s = np.zeros(n,float)\n",
    "\n",
    "    for i in range(n-1,-1,-1):\n",
    "        s[i] = b[i] - np.dot(A[i],s)\n",
    "    \n",
    "    return s"
   ]
  },
  {
   "cell_type": "code",
   "execution_count": 183,
   "id": "3027a114-0eb7-4aa4-b3e0-d4a600f34b11",
   "metadata": {},
   "outputs": [],
   "source": [
    "# A = np.array([[8,2,3],[4,5,6],[7,8,10]],float)\n",
    "# b = np.array([66,2,3],float)\n",
    "\n",
    "# A = np.array([[8,2,3],[4,5,6],[7,8,10]])\n",
    "# b = np.array([66,2,3])\n",
    "\n",
    "A = [[8,2,3],[4,5,6],[7,8,10]]\n",
    "# b = [66,2,3]\n",
    "b = [6,21,23]\n",
    "\n",
    "# A = np.array([[1,2],[3,4]],float)\n",
    "# b = np.array([1,2],float)\n"
   ]
  },
  {
   "cell_type": "code",
   "execution_count": 184,
   "id": "4f3138eb-9a1c-4ed6-8586-dfd2a23999c0",
   "metadata": {},
   "outputs": [
    {
     "data": {
      "text/plain": [
       "array([  2.45454545,  38.45454545, -30.18181818])"
      ]
     },
     "execution_count": 184,
     "metadata": {},
     "output_type": "execute_result"
    }
   ],
   "source": [
    "np.linalg.solve(A,b)"
   ]
  },
  {
   "cell_type": "code",
   "execution_count": 185,
   "id": "ff5dd447-4f07-4072-be1d-b36e799c3336",
   "metadata": {},
   "outputs": [],
   "source": [
    "# print(A)\n",
    "# print(b)"
   ]
  },
  {
   "cell_type": "code",
   "execution_count": 186,
   "id": "33f53425-b152-4858-9c62-b09d34c03668",
   "metadata": {},
   "outputs": [
    {
     "data": {
      "text/plain": [
       "array([  2.45454545,  38.45454545, -30.18181818])"
      ]
     },
     "execution_count": 186,
     "metadata": {},
     "output_type": "execute_result"
    }
   ],
   "source": [
    "MatrixGauss(A,b)"
   ]
  },
  {
   "cell_type": "code",
   "execution_count": null,
   "id": "a3898e22-0dea-4958-91c6-29ea6e54768b",
   "metadata": {},
   "outputs": [],
   "source": []
  },
  {
   "cell_type": "code",
   "execution_count": 188,
   "id": "29e91eb4-3c7a-4208-b56e-ec5af91edfb0",
   "metadata": {},
   "outputs": [
    {
     "data": {
      "text/plain": [
       "EigResult(eigenvalues=array([17.81407075,  5.06399197,  0.12193728]), eigenvectors=array([[ 0.34452611,  0.77540271, -0.05646005],\n",
       "       [ 0.48414877, -0.35717746, -0.75592706],\n",
       "       [ 0.80430202, -0.52074456,  0.65221663]]))"
      ]
     },
     "execution_count": 188,
     "metadata": {},
     "output_type": "execute_result"
    }
   ],
   "source": [
    "np.linalg.eig(A)"
   ]
  },
  {
   "cell_type": "code",
   "execution_count": null,
   "id": "24c42ade-f125-4874-b10e-3665ab86215d",
   "metadata": {},
   "outputs": [],
   "source": []
  },
  {
   "cell_type": "code",
   "execution_count": null,
   "id": "252c2e14-23d9-41be-a18e-025344e5601b",
   "metadata": {},
   "outputs": [],
   "source": []
  },
  {
   "cell_type": "code",
   "execution_count": null,
   "id": "0d0945ff-6f42-4261-b133-1d001e2d093d",
   "metadata": {},
   "outputs": [],
   "source": []
  }
 ],
 "metadata": {
  "kernelspec": {
   "display_name": "Python 3 (ipykernel)",
   "language": "python",
   "name": "python3"
  },
  "language_info": {
   "codemirror_mode": {
    "name": "ipython",
    "version": 3
   },
   "file_extension": ".py",
   "mimetype": "text/x-python",
   "name": "python",
   "nbconvert_exporter": "python",
   "pygments_lexer": "ipython3",
   "version": "3.12.3"
  }
 },
 "nbformat": 4,
 "nbformat_minor": 5
}
